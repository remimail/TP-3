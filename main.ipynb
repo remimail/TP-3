{
 "cells": [
  {
   "cell_type": "code",
   "execution_count": 26,
   "metadata": {},
   "outputs": [
    {
     "name": "stdout",
     "output_type": "stream",
     "text": [
      "Requirement already satisfied: yfinance in /Users/remimailhot/opt/anaconda3/lib/python3.8/site-packages (0.2.31)\n",
      "Requirement already satisfied: appdirs>=1.4.4 in /Users/remimailhot/opt/anaconda3/lib/python3.8/site-packages (from yfinance) (1.4.4)\n",
      "Requirement already satisfied: multitasking>=0.0.7 in /Users/remimailhot/opt/anaconda3/lib/python3.8/site-packages (from yfinance) (0.0.11)\n",
      "Requirement already satisfied: frozendict>=2.3.4 in /Users/remimailhot/opt/anaconda3/lib/python3.8/site-packages (from yfinance) (2.3.8)\n",
      "Requirement already satisfied: html5lib>=1.1 in /Users/remimailhot/opt/anaconda3/lib/python3.8/site-packages (from yfinance) (1.1)\n",
      "Requirement already satisfied: requests>=2.31 in /Users/remimailhot/opt/anaconda3/lib/python3.8/site-packages (from yfinance) (2.31.0)\n",
      "Requirement already satisfied: numpy>=1.16.5 in /Users/remimailhot/opt/anaconda3/lib/python3.8/site-packages (from yfinance) (1.23.5)\n",
      "Requirement already satisfied: pandas>=1.3.0 in /Users/remimailhot/opt/anaconda3/lib/python3.8/site-packages (from yfinance) (1.3.2)\n",
      "Requirement already satisfied: lxml>=4.9.1 in /Users/remimailhot/opt/anaconda3/lib/python3.8/site-packages (from yfinance) (4.9.3)\n",
      "Requirement already satisfied: peewee>=3.16.2 in /Users/remimailhot/opt/anaconda3/lib/python3.8/site-packages (from yfinance) (3.17.0)\n",
      "Requirement already satisfied: beautifulsoup4>=4.11.1 in /Users/remimailhot/opt/anaconda3/lib/python3.8/site-packages (from yfinance) (4.12.2)\n",
      "Requirement already satisfied: pytz>=2022.5 in /Users/remimailhot/opt/anaconda3/lib/python3.8/site-packages (from yfinance) (2023.3.post1)\n",
      "Requirement already satisfied: six>=1.9 in /Users/remimailhot/opt/anaconda3/lib/python3.8/site-packages (from html5lib>=1.1->yfinance) (1.15.0)\n",
      "Requirement already satisfied: webencodings in /Users/remimailhot/opt/anaconda3/lib/python3.8/site-packages (from html5lib>=1.1->yfinance) (0.5.1)\n",
      "Requirement already satisfied: urllib3<3,>=1.21.1 in /Users/remimailhot/opt/anaconda3/lib/python3.8/site-packages (from requests>=2.31->yfinance) (1.25.11)\n",
      "Requirement already satisfied: charset-normalizer<4,>=2 in /Users/remimailhot/opt/anaconda3/lib/python3.8/site-packages (from requests>=2.31->yfinance) (3.3.2)\n",
      "Requirement already satisfied: idna<4,>=2.5 in /Users/remimailhot/opt/anaconda3/lib/python3.8/site-packages (from requests>=2.31->yfinance) (2.10)\n",
      "Requirement already satisfied: certifi>=2017.4.17 in /Users/remimailhot/opt/anaconda3/lib/python3.8/site-packages (from requests>=2.31->yfinance) (2020.6.20)\n",
      "Requirement already satisfied: python-dateutil>=2.7.3 in /Users/remimailhot/opt/anaconda3/lib/python3.8/site-packages (from pandas>=1.3.0->yfinance) (2.8.2)\n",
      "Requirement already satisfied: soupsieve>1.2 in /Users/remimailhot/opt/anaconda3/lib/python3.8/site-packages (from beautifulsoup4>=4.11.1->yfinance) (2.0.1)\n",
      "Collecting git+https://github.com/dcajasn/Riskfolio-Lib.git\n",
      "  Cloning https://github.com/dcajasn/Riskfolio-Lib.git to /private/var/folders/k5/ktrf3j117gs1ppk87tw6dxbc0000gn/T/pip-req-build-z86lvq0e\n",
      "  Installing build dependencies ... \u001b[?25ldone\n",
      "\u001b[?25h  Getting requirements to build wheel ... \u001b[?25ldone\n",
      "\u001b[?25h    Preparing wheel metadata ... \u001b[?25ldone\n",
      "\u001b[?25hRequirement already satisfied (use --upgrade to upgrade): Riskfolio-Lib==4.4.2 from git+https://github.com/dcajasn/Riskfolio-Lib.git in /Users/remimailhot/opt/anaconda3/lib/python3.8/site-packages\n",
      "Requirement already satisfied: pybind11>=2.10.1 in /Users/remimailhot/opt/anaconda3/lib/python3.8/site-packages (from Riskfolio-Lib==4.4.2) (2.11.1)\n",
      "Requirement already satisfied: scikit-learn>=1.0.0 in /Users/remimailhot/opt/anaconda3/lib/python3.8/site-packages (from Riskfolio-Lib==4.4.2) (1.3.2)\n",
      "Requirement already satisfied: arch>=4.15 in /Users/remimailhot/opt/anaconda3/lib/python3.8/site-packages (from Riskfolio-Lib==4.4.2) (5.6.0)\n",
      "Requirement already satisfied: astropy>=4.3.1 in /Users/remimailhot/opt/anaconda3/lib/python3.8/site-packages (from Riskfolio-Lib==4.4.2) (5.2.2)\n",
      "Requirement already satisfied: matplotlib>=3.5.0 in /Users/remimailhot/opt/anaconda3/lib/python3.8/site-packages (from Riskfolio-Lib==4.4.2) (3.7.3)\n",
      "Requirement already satisfied: xlsxwriter>=1.3.7 in /Users/remimailhot/opt/anaconda3/lib/python3.8/site-packages (from Riskfolio-Lib==4.4.2) (1.3.7)\n",
      "Requirement already satisfied: networkx>=2.5.1 in /Users/remimailhot/opt/anaconda3/lib/python3.8/site-packages (from Riskfolio-Lib==4.4.2) (3.1)\n",
      "Requirement already satisfied: pandas>=1.0.0 in /Users/remimailhot/opt/anaconda3/lib/python3.8/site-packages (from Riskfolio-Lib==4.4.2) (1.3.2)\n",
      "Requirement already satisfied: numpy>=1.18.0 in /Users/remimailhot/opt/anaconda3/lib/python3.8/site-packages (from Riskfolio-Lib==4.4.2) (1.23.5)\n",
      "Requirement already satisfied: cvxpy>=1.3.1 in /Users/remimailhot/opt/anaconda3/lib/python3.8/site-packages (from Riskfolio-Lib==4.4.2) (1.3.2)\n",
      "Requirement already satisfied: statsmodels>=0.10.1 in /Users/remimailhot/opt/anaconda3/lib/python3.8/site-packages (from Riskfolio-Lib==4.4.2) (0.12.0)\n",
      "Requirement already satisfied: scipy>=1.1.0 in /Users/remimailhot/opt/anaconda3/lib/python3.8/site-packages (from Riskfolio-Lib==4.4.2) (1.5.2)\n",
      "Requirement already satisfied: threadpoolctl>=2.0.0 in /Users/remimailhot/opt/anaconda3/lib/python3.8/site-packages (from scikit-learn>=1.0.0->Riskfolio-Lib==4.4.2) (2.1.0)\n",
      "Requirement already satisfied: joblib>=1.1.1 in /Users/remimailhot/opt/anaconda3/lib/python3.8/site-packages (from scikit-learn>=1.0.0->Riskfolio-Lib==4.4.2) (1.3.2)\n",
      "Requirement already satisfied: property-cached>=1.6.4 in /Users/remimailhot/opt/anaconda3/lib/python3.8/site-packages (from arch>=4.15->Riskfolio-Lib==4.4.2) (1.6.4)\n",
      "Requirement already satisfied: packaging>=19.0 in /Users/remimailhot/opt/anaconda3/lib/python3.8/site-packages (from astropy>=4.3.1->Riskfolio-Lib==4.4.2) (20.4)\n",
      "Requirement already satisfied: PyYAML>=3.13 in /Users/remimailhot/opt/anaconda3/lib/python3.8/site-packages (from astropy>=4.3.1->Riskfolio-Lib==4.4.2) (5.3.1)\n",
      "Requirement already satisfied: pyerfa>=2.0 in /Users/remimailhot/opt/anaconda3/lib/python3.8/site-packages (from astropy>=4.3.1->Riskfolio-Lib==4.4.2) (2.0.0.3)\n",
      "Requirement already satisfied: cycler>=0.10 in /Users/remimailhot/opt/anaconda3/lib/python3.8/site-packages (from matplotlib>=3.5.0->Riskfolio-Lib==4.4.2) (0.10.0)\n",
      "Requirement already satisfied: fonttools>=4.22.0 in /Users/remimailhot/opt/anaconda3/lib/python3.8/site-packages (from matplotlib>=3.5.0->Riskfolio-Lib==4.4.2) (4.44.1)\n",
      "Requirement already satisfied: pyparsing>=2.3.1 in /Users/remimailhot/opt/anaconda3/lib/python3.8/site-packages (from matplotlib>=3.5.0->Riskfolio-Lib==4.4.2) (2.4.7)\n",
      "Requirement already satisfied: importlib-resources>=3.2.0; python_version < \"3.10\" in /Users/remimailhot/opt/anaconda3/lib/python3.8/site-packages (from matplotlib>=3.5.0->Riskfolio-Lib==4.4.2) (6.1.1)\n",
      "Requirement already satisfied: contourpy>=1.0.1 in /Users/remimailhot/opt/anaconda3/lib/python3.8/site-packages (from matplotlib>=3.5.0->Riskfolio-Lib==4.4.2) (1.1.1)\n",
      "Requirement already satisfied: pillow>=6.2.0 in /Users/remimailhot/opt/anaconda3/lib/python3.8/site-packages (from matplotlib>=3.5.0->Riskfolio-Lib==4.4.2) (8.0.1)\n",
      "Requirement already satisfied: kiwisolver>=1.0.1 in /Users/remimailhot/opt/anaconda3/lib/python3.8/site-packages (from matplotlib>=3.5.0->Riskfolio-Lib==4.4.2) (1.3.0)\n",
      "Requirement already satisfied: python-dateutil>=2.7 in /Users/remimailhot/opt/anaconda3/lib/python3.8/site-packages (from matplotlib>=3.5.0->Riskfolio-Lib==4.4.2) (2.8.2)\n",
      "Requirement already satisfied: pytz>=2017.3 in /Users/remimailhot/opt/anaconda3/lib/python3.8/site-packages (from pandas>=1.0.0->Riskfolio-Lib==4.4.2) (2023.3.post1)\n",
      "Requirement already satisfied: osqp>=0.4.1 in /Users/remimailhot/opt/anaconda3/lib/python3.8/site-packages (from cvxpy>=1.3.1->Riskfolio-Lib==4.4.2) (0.6.3)\n",
      "Requirement already satisfied: scs>=1.1.6 in /Users/remimailhot/opt/anaconda3/lib/python3.8/site-packages (from cvxpy>=1.3.1->Riskfolio-Lib==4.4.2) (3.2.3)\n",
      "Requirement already satisfied: ecos>=2 in /Users/remimailhot/opt/anaconda3/lib/python3.8/site-packages (from cvxpy>=1.3.1->Riskfolio-Lib==4.4.2) (2.0.12)\n",
      "Requirement already satisfied: setuptools>65.5.1 in /Users/remimailhot/opt/anaconda3/lib/python3.8/site-packages (from cvxpy>=1.3.1->Riskfolio-Lib==4.4.2) (68.2.2)\n",
      "Requirement already satisfied: patsy>=0.5 in /Users/remimailhot/opt/anaconda3/lib/python3.8/site-packages (from statsmodels>=0.10.1->Riskfolio-Lib==4.4.2) (0.5.1)\n",
      "Requirement already satisfied: six in /Users/remimailhot/opt/anaconda3/lib/python3.8/site-packages (from packaging>=19.0->astropy>=4.3.1->Riskfolio-Lib==4.4.2) (1.15.0)\n",
      "Requirement already satisfied: zipp>=3.1.0; python_version < \"3.10\" in /Users/remimailhot/opt/anaconda3/lib/python3.8/site-packages (from importlib-resources>=3.2.0; python_version < \"3.10\"->matplotlib>=3.5.0->Riskfolio-Lib==4.4.2) (3.4.0)\n",
      "Requirement already satisfied: qdldl in /Users/remimailhot/opt/anaconda3/lib/python3.8/site-packages (from osqp>=0.4.1->cvxpy>=1.3.1->Riskfolio-Lib==4.4.2) (0.1.7.post0)\n",
      "Building wheels for collected packages: Riskfolio-Lib\n",
      "  Building wheel for Riskfolio-Lib (PEP 517) ... \u001b[?25ldone\n",
      "\u001b[?25h  Created wheel for Riskfolio-Lib: filename=Riskfolio_Lib-4.4.2-cp38-cp38-macosx_10_14_x86_64.whl size=183430 sha256=2baf5ac168bcd5ab947badcbbd2f2ff8049e6bb24c94f5339953ccae397557ea\n",
      "  Stored in directory: /private/var/folders/k5/ktrf3j117gs1ppk87tw6dxbc0000gn/T/pip-ephem-wheel-cache-75r64ge5/wheels/32/11/d0/056926a99810470e8134d20f48757fcc5180097befacd82dd8\n",
      "Successfully built Riskfolio-Lib\n",
      "Requirement already satisfied: PyPortfolioOpt in /Users/remimailhot/opt/anaconda3/lib/python3.8/site-packages (1.5.5)\n",
      "Requirement already satisfied: numpy<2.0.0,>=1.22.4 in /Users/remimailhot/opt/anaconda3/lib/python3.8/site-packages (from PyPortfolioOpt) (1.23.5)\n",
      "Requirement already satisfied: cvxpy<2.0.0,>=1.1.19 in /Users/remimailhot/opt/anaconda3/lib/python3.8/site-packages (from PyPortfolioOpt) (1.3.2)\n",
      "Requirement already satisfied: scipy<2.0,>=1.3 in /Users/remimailhot/opt/anaconda3/lib/python3.8/site-packages (from PyPortfolioOpt) (1.5.2)\n",
      "Requirement already satisfied: pandas>=0.19 in /Users/remimailhot/opt/anaconda3/lib/python3.8/site-packages (from PyPortfolioOpt) (1.3.2)\n",
      "Requirement already satisfied: ecos>=2 in /Users/remimailhot/opt/anaconda3/lib/python3.8/site-packages (from cvxpy<2.0.0,>=1.1.19->PyPortfolioOpt) (2.0.12)\n",
      "Requirement already satisfied: osqp>=0.4.1 in /Users/remimailhot/opt/anaconda3/lib/python3.8/site-packages (from cvxpy<2.0.0,>=1.1.19->PyPortfolioOpt) (0.6.3)\n",
      "Requirement already satisfied: setuptools>65.5.1 in /Users/remimailhot/opt/anaconda3/lib/python3.8/site-packages (from cvxpy<2.0.0,>=1.1.19->PyPortfolioOpt) (68.2.2)\n",
      "Requirement already satisfied: scs>=1.1.6 in /Users/remimailhot/opt/anaconda3/lib/python3.8/site-packages (from cvxpy<2.0.0,>=1.1.19->PyPortfolioOpt) (3.2.3)\n",
      "Requirement already satisfied: python-dateutil>=2.7.3 in /Users/remimailhot/opt/anaconda3/lib/python3.8/site-packages (from pandas>=0.19->PyPortfolioOpt) (2.8.2)\n",
      "Requirement already satisfied: pytz>=2017.3 in /Users/remimailhot/opt/anaconda3/lib/python3.8/site-packages (from pandas>=0.19->PyPortfolioOpt) (2023.3.post1)\n",
      "Requirement already satisfied: qdldl in /Users/remimailhot/opt/anaconda3/lib/python3.8/site-packages (from osqp>=0.4.1->cvxpy<2.0.0,>=1.1.19->PyPortfolioOpt) (0.1.7.post0)\n",
      "Requirement already satisfied: six>=1.5 in /Users/remimailhot/opt/anaconda3/lib/python3.8/site-packages (from python-dateutil>=2.7.3->pandas>=0.19->PyPortfolioOpt) (1.15.0)\n",
      "Requirement already satisfied: Numpy==1.23.5 in /Users/remimailhot/opt/anaconda3/lib/python3.8/site-packages (1.23.5)\n",
      "Requirement already satisfied: pandas==1.3.2 in /Users/remimailhot/opt/anaconda3/lib/python3.8/site-packages (1.3.2)\n",
      "Requirement already satisfied: numpy>=1.17.3 in /Users/remimailhot/opt/anaconda3/lib/python3.8/site-packages (from pandas==1.3.2) (1.23.5)\n",
      "Requirement already satisfied: python-dateutil>=2.7.3 in /Users/remimailhot/opt/anaconda3/lib/python3.8/site-packages (from pandas==1.3.2) (2.8.2)\n",
      "Requirement already satisfied: pytz>=2017.3 in /Users/remimailhot/opt/anaconda3/lib/python3.8/site-packages (from pandas==1.3.2) (2023.3.post1)\n",
      "Requirement already satisfied: six>=1.5 in /Users/remimailhot/opt/anaconda3/lib/python3.8/site-packages (from python-dateutil>=2.7.3->pandas==1.3.2) (1.15.0)\n"
     ]
    }
   ],
   "source": [
    "!pip install yfinance\n",
    "!pip install git+https://github.com/dcajasn/Riskfolio-Lib.git\n",
    "!pip install PyPortfolioOpt\n",
    "\n",
    "#Faut changer notre version de numpy et pandas, pour l'avant dernière\n",
    "!pip install Numpy==1.23.5\n",
    "!pip install pandas==1.3.2\n",
    "\n"
   ]
  },
  {
   "cell_type": "code",
   "execution_count": 27,
   "metadata": {},
   "outputs": [
    {
     "name": "stdout",
     "output_type": "stream",
     "text": [
      "[*********************100%%**********************]  11 of 11 completed\n"
     ]
    }
   ],
   "source": [
    "run data.py"
   ]
  },
  {
   "cell_type": "code",
   "execution_count": 29,
   "metadata": {},
   "outputs": [
    {
     "data": {
      "text/html": [
       "<div>\n",
       "<style scoped>\n",
       "    .dataframe tbody tr th:only-of-type {\n",
       "        vertical-align: middle;\n",
       "    }\n",
       "\n",
       "    .dataframe tbody tr th {\n",
       "        vertical-align: top;\n",
       "    }\n",
       "\n",
       "    .dataframe thead th {\n",
       "        text-align: right;\n",
       "    }\n",
       "</style>\n",
       "<table border=\"1\" class=\"dataframe\">\n",
       "  <thead>\n",
       "    <tr style=\"text-align: right;\">\n",
       "      <th></th>\n",
       "      <th>EAGG</th>\n",
       "      <th>ESGD</th>\n",
       "      <th>ESGE</th>\n",
       "      <th>ESGU</th>\n",
       "      <th>ESML</th>\n",
       "      <th>GOVT</th>\n",
       "      <th>MBB</th>\n",
       "      <th>SHY</th>\n",
       "      <th>SUSA</th>\n",
       "      <th>SUSB</th>\n",
       "      <th>SUSC</th>\n",
       "    </tr>\n",
       "    <tr>\n",
       "      <th>Date</th>\n",
       "      <th></th>\n",
       "      <th></th>\n",
       "      <th></th>\n",
       "      <th></th>\n",
       "      <th></th>\n",
       "      <th></th>\n",
       "      <th></th>\n",
       "      <th></th>\n",
       "      <th></th>\n",
       "      <th></th>\n",
       "      <th></th>\n",
       "    </tr>\n",
       "  </thead>\n",
       "  <tbody>\n",
       "    <tr>\n",
       "      <th>2018-10-24</th>\n",
       "      <td>0.000000</td>\n",
       "      <td>-0.027891</td>\n",
       "      <td>-0.029961</td>\n",
       "      <td>-0.030399</td>\n",
       "      <td>-0.028717</td>\n",
       "      <td>0.003722</td>\n",
       "      <td>0.002247</td>\n",
       "      <td>0.001566</td>\n",
       "      <td>-0.026467</td>\n",
       "      <td>0.000818</td>\n",
       "      <td>0.000963</td>\n",
       "    </tr>\n",
       "    <tr>\n",
       "      <th>2018-10-25</th>\n",
       "      <td>0.000000</td>\n",
       "      <td>0.012369</td>\n",
       "      <td>0.015942</td>\n",
       "      <td>0.017743</td>\n",
       "      <td>0.012648</td>\n",
       "      <td>-0.002472</td>\n",
       "      <td>0.000098</td>\n",
       "      <td>-0.000360</td>\n",
       "      <td>0.016738</td>\n",
       "      <td>-0.001225</td>\n",
       "      <td>0.000293</td>\n",
       "    </tr>\n",
       "    <tr>\n",
       "      <th>2018-10-26</th>\n",
       "      <td>0.000000</td>\n",
       "      <td>-0.007979</td>\n",
       "      <td>-0.008499</td>\n",
       "      <td>-0.018280</td>\n",
       "      <td>-0.011137</td>\n",
       "      <td>0.003717</td>\n",
       "      <td>0.001365</td>\n",
       "      <td>0.000601</td>\n",
       "      <td>-0.009823</td>\n",
       "      <td>0.002453</td>\n",
       "      <td>0.002510</td>\n",
       "    </tr>\n",
       "    <tr>\n",
       "      <th>2018-10-29</th>\n",
       "      <td>0.003195</td>\n",
       "      <td>-0.001676</td>\n",
       "      <td>-0.017474</td>\n",
       "      <td>-0.005517</td>\n",
       "      <td>-0.009654</td>\n",
       "      <td>-0.000412</td>\n",
       "      <td>0.000000</td>\n",
       "      <td>0.000361</td>\n",
       "      <td>-0.010655</td>\n",
       "      <td>0.000000</td>\n",
       "      <td>-0.003171</td>\n",
       "    </tr>\n",
       "    <tr>\n",
       "      <th>2018-10-30</th>\n",
       "      <td>-0.001194</td>\n",
       "      <td>0.011917</td>\n",
       "      <td>0.018456</td>\n",
       "      <td>0.010680</td>\n",
       "      <td>0.016247</td>\n",
       "      <td>-0.001647</td>\n",
       "      <td>-0.001266</td>\n",
       "      <td>-0.000481</td>\n",
       "      <td>0.020797</td>\n",
       "      <td>-0.002121</td>\n",
       "      <td>-0.001842</td>\n",
       "    </tr>\n",
       "    <tr>\n",
       "      <th>...</th>\n",
       "      <td>...</td>\n",
       "      <td>...</td>\n",
       "      <td>...</td>\n",
       "      <td>...</td>\n",
       "      <td>...</td>\n",
       "      <td>...</td>\n",
       "      <td>...</td>\n",
       "      <td>...</td>\n",
       "      <td>...</td>\n",
       "      <td>...</td>\n",
       "      <td>...</td>\n",
       "    </tr>\n",
       "    <tr>\n",
       "      <th>2023-11-10</th>\n",
       "      <td>0.000000</td>\n",
       "      <td>0.004935</td>\n",
       "      <td>0.007204</td>\n",
       "      <td>0.015760</td>\n",
       "      <td>0.010924</td>\n",
       "      <td>0.000909</td>\n",
       "      <td>0.002830</td>\n",
       "      <td>0.000247</td>\n",
       "      <td>0.016426</td>\n",
       "      <td>0.001263</td>\n",
       "      <td>0.004157</td>\n",
       "    </tr>\n",
       "    <tr>\n",
       "      <th>2023-11-13</th>\n",
       "      <td>0.001108</td>\n",
       "      <td>0.002022</td>\n",
       "      <td>-0.000650</td>\n",
       "      <td>-0.001552</td>\n",
       "      <td>-0.000617</td>\n",
       "      <td>0.000000</td>\n",
       "      <td>-0.000677</td>\n",
       "      <td>0.000370</td>\n",
       "      <td>-0.001965</td>\n",
       "      <td>0.000420</td>\n",
       "      <td>0.000000</td>\n",
       "    </tr>\n",
       "    <tr>\n",
       "      <th>2023-11-14</th>\n",
       "      <td>0.009296</td>\n",
       "      <td>0.025659</td>\n",
       "      <td>0.026675</td>\n",
       "      <td>0.021030</td>\n",
       "      <td>0.048502</td>\n",
       "      <td>0.009991</td>\n",
       "      <td>0.015023</td>\n",
       "      <td>0.003949</td>\n",
       "      <td>0.023414</td>\n",
       "      <td>0.006723</td>\n",
       "      <td>0.012880</td>\n",
       "    </tr>\n",
       "    <tr>\n",
       "      <th>2023-11-15</th>\n",
       "      <td>-0.002193</td>\n",
       "      <td>-0.000703</td>\n",
       "      <td>0.008872</td>\n",
       "      <td>0.001319</td>\n",
       "      <td>0.004125</td>\n",
       "      <td>-0.004946</td>\n",
       "      <td>-0.007456</td>\n",
       "      <td>-0.001844</td>\n",
       "      <td>0.003314</td>\n",
       "      <td>-0.002087</td>\n",
       "      <td>-0.004087</td>\n",
       "    </tr>\n",
       "    <tr>\n",
       "      <th>2023-11-16</th>\n",
       "      <td>0.005055</td>\n",
       "      <td>-0.002954</td>\n",
       "      <td>-0.010835</td>\n",
       "      <td>0.000051</td>\n",
       "      <td>-0.014595</td>\n",
       "      <td>0.004822</td>\n",
       "      <td>0.006844</td>\n",
       "      <td>0.001847</td>\n",
       "      <td>-0.001410</td>\n",
       "      <td>0.002087</td>\n",
       "      <td>0.005011</td>\n",
       "    </tr>\n",
       "  </tbody>\n",
       "</table>\n",
       "<p>1275 rows × 11 columns</p>\n",
       "</div>"
      ],
      "text/plain": [
       "                EAGG      ESGD      ESGE      ESGU      ESML      GOVT  \\\n",
       "Date                                                                     \n",
       "2018-10-24  0.000000 -0.027891 -0.029961 -0.030399 -0.028717  0.003722   \n",
       "2018-10-25  0.000000  0.012369  0.015942  0.017743  0.012648 -0.002472   \n",
       "2018-10-26  0.000000 -0.007979 -0.008499 -0.018280 -0.011137  0.003717   \n",
       "2018-10-29  0.003195 -0.001676 -0.017474 -0.005517 -0.009654 -0.000412   \n",
       "2018-10-30 -0.001194  0.011917  0.018456  0.010680  0.016247 -0.001647   \n",
       "...              ...       ...       ...       ...       ...       ...   \n",
       "2023-11-10  0.000000  0.004935  0.007204  0.015760  0.010924  0.000909   \n",
       "2023-11-13  0.001108  0.002022 -0.000650 -0.001552 -0.000617  0.000000   \n",
       "2023-11-14  0.009296  0.025659  0.026675  0.021030  0.048502  0.009991   \n",
       "2023-11-15 -0.002193 -0.000703  0.008872  0.001319  0.004125 -0.004946   \n",
       "2023-11-16  0.005055 -0.002954 -0.010835  0.000051 -0.014595  0.004822   \n",
       "\n",
       "                 MBB       SHY      SUSA      SUSB      SUSC  \n",
       "Date                                                          \n",
       "2018-10-24  0.002247  0.001566 -0.026467  0.000818  0.000963  \n",
       "2018-10-25  0.000098 -0.000360  0.016738 -0.001225  0.000293  \n",
       "2018-10-26  0.001365  0.000601 -0.009823  0.002453  0.002510  \n",
       "2018-10-29  0.000000  0.000361 -0.010655  0.000000 -0.003171  \n",
       "2018-10-30 -0.001266 -0.000481  0.020797 -0.002121 -0.001842  \n",
       "...              ...       ...       ...       ...       ...  \n",
       "2023-11-10  0.002830  0.000247  0.016426  0.001263  0.004157  \n",
       "2023-11-13 -0.000677  0.000370 -0.001965  0.000420  0.000000  \n",
       "2023-11-14  0.015023  0.003949  0.023414  0.006723  0.012880  \n",
       "2023-11-15 -0.007456 -0.001844  0.003314 -0.002087 -0.004087  \n",
       "2023-11-16  0.006844  0.001847 -0.001410  0.002087  0.005011  \n",
       "\n",
       "[1275 rows x 11 columns]"
      ]
     },
     "execution_count": 29,
     "metadata": {},
     "output_type": "execute_result"
    }
   ],
   "source": [
    "rets"
   ]
  },
  {
   "cell_type": "code",
   "execution_count": 30,
   "metadata": {},
   "outputs": [
    {
     "data": {
      "text/plain": [
       "EAGG    0.057462\n",
       "ESGD    0.198106\n",
       "ESGE    0.222727\n",
       "ESGU    0.219177\n",
       "ESML    0.258371\n",
       "GOVT    0.059965\n",
       "MBB     0.060235\n",
       "SHY     0.017933\n",
       "SUSA    0.217478\n",
       "SUSB    0.044833\n",
       "SUSC    0.090208\n",
       "dtype: float64"
      ]
     },
     "execution_count": 30,
     "metadata": {},
     "output_type": "execute_result"
    }
   ],
   "source": [
    "#Annualized variance of returns\n",
    "np.sqrt(rets.var()*252)"
   ]
  },
  {
   "cell_type": "markdown",
   "metadata": {},
   "source": [
    "## Risk parity relaxed optim based on historical rets and cov"
   ]
  },
  {
   "cell_type": "markdown",
   "metadata": {},
   "source": [
    "Build the linear constraint based on the ESG rating"
   ]
  },
  {
   "cell_type": "code",
   "execution_count": 138,
   "metadata": {},
   "outputs": [],
   "source": [
    "import pandas as pd\n",
    "from riskfolio import factors_constraints\n",
    "\n",
    "# Your DataFrame\n",
    "ESG_constraint_data = {\n",
    "    'ESG Fund Rating': [6.6, 8.6, 7.1, 7.3, 6.5, 5.7, 6.5, 5.7, 8.2, 7.9, 7.6],\n",
    "}\n",
    "\n",
    "ESG_constraint = pd.DataFrame(ESG_constraint_data)\n",
    "\n",
    "# Define the constraints based on your DataFrame\n",
    "constraints = pd.DataFrame({\n",
    "    'Disabled': [False],\n",
    "    'Factor': ['ESG Fund Rating'],\n",
    "    'Sign': ['>='],\n",
    "    'Value': [6.5],\n",
    "    'Relative Factor': '',\n",
    "})\n",
    "\n",
    "# Create the factors constraints matrices C and D\n",
    "C, D = factors_constraints(constraints, loadings=ESG_constraint)\n",
    "\n",
    "# Now you can use the matrices C and D in your riskfolio optimization\n"
   ]
  },
  {
   "cell_type": "code",
   "execution_count": 139,
   "metadata": {},
   "outputs": [],
   "source": [
    "# Building the portfolio object\n",
    "port = rp.Portfolio(returns=rets,ainequality = C, binequality = D)\n",
    "\n",
    "# Select method and estimate input parameters:\n",
    "\n",
    "method_mu='hist' # Method to estimate expected returns based on historical data.\n",
    "method_cov='hist' # Method to estimate covariance matrix based on historical data.\n",
    "\n",
    "port.assets_stats(method_mu=method_mu, method_cov=method_cov, d=0.94)\n",
    "\n",
    "# Estimate optimal portfolio:\n",
    "\n",
    "model = 'Classic' # Could be Classic (historical) or FM (Factor Model)\n",
    "rm = 'MV' # Risk measure used, this time will be variance\n",
    "obj = 'Sharpe' # Objective function, could be MinRisk, MaxRet, Utility or Sharpe\n",
    "hist = True # Use historical scenarios for risk measures that depend on scenarios\n",
    "rf = 0 # Risk free rate\n",
    "b = None # Risk contribution constraints vector\n"
   ]
  },
  {
   "cell_type": "code",
   "execution_count": 140,
   "metadata": {},
   "outputs": [
    {
     "name": "stderr",
     "output_type": "stream",
     "text": [
      "/Users/remimailhot/opt/anaconda3/lib/python3.8/site-packages/cvxpy/problems/problem.py:1387: UserWarning: Solution may be inaccurate. Try another solver, adjusting the solver settings, or solve with verbose=True for more information.\n",
      "  warnings.warn(\n"
     ]
    },
    {
     "data": {
      "text/html": [
       "<div>\n",
       "<style scoped>\n",
       "    .dataframe tbody tr th:only-of-type {\n",
       "        vertical-align: middle;\n",
       "    }\n",
       "\n",
       "    .dataframe tbody tr th {\n",
       "        vertical-align: top;\n",
       "    }\n",
       "\n",
       "    .dataframe thead th {\n",
       "        text-align: right;\n",
       "    }\n",
       "</style>\n",
       "<table border=\"1\" class=\"dataframe\">\n",
       "  <thead>\n",
       "    <tr style=\"text-align: right;\">\n",
       "      <th></th>\n",
       "      <th>EAGG</th>\n",
       "      <th>ESGD</th>\n",
       "      <th>ESGE</th>\n",
       "      <th>ESGU</th>\n",
       "      <th>ESML</th>\n",
       "      <th>GOVT</th>\n",
       "      <th>MBB</th>\n",
       "      <th>SHY</th>\n",
       "      <th>SUSA</th>\n",
       "      <th>SUSB</th>\n",
       "      <th>SUSC</th>\n",
       "    </tr>\n",
       "  </thead>\n",
       "  <tbody>\n",
       "    <tr>\n",
       "      <th>weights</th>\n",
       "      <td>0.120438</td>\n",
       "      <td>0.043544</td>\n",
       "      <td>0.046238</td>\n",
       "      <td>0.043262</td>\n",
       "      <td>0.034863</td>\n",
       "      <td>0.134605</td>\n",
       "      <td>0.11255</td>\n",
       "      <td>0.206349</td>\n",
       "      <td>0.04079</td>\n",
       "      <td>0.130634</td>\n",
       "      <td>0.086728</td>\n",
       "    </tr>\n",
       "  </tbody>\n",
       "</table>\n",
       "</div>"
      ],
      "text/plain": [
       "             EAGG      ESGD      ESGE      ESGU      ESML      GOVT      MBB  \\\n",
       "weights  0.120438  0.043544  0.046238  0.043262  0.034863  0.134605  0.11255   \n",
       "\n",
       "              SHY     SUSA      SUSB      SUSC  \n",
       "weights  0.206349  0.04079  0.130634  0.086728  "
      ]
     },
     "metadata": {},
     "output_type": "display_data"
    },
    {
     "name": "stdout",
     "output_type": "stream",
     "text": [
      "The weighted average ESG rating of this portfolio is 6.740706123261641\n"
     ]
    },
    {
     "data": {
      "image/png": "[encoded data removed]",
      "text/plain": [
       "<Figure size 720x432 with 1 Axes>"
      ]
     },
     "metadata": {},
     "output_type": "display_data"
    }
   ],
   "source": [
    "version = 'A' # Could be A, B or C\n",
    "\n",
    "w_rrp_a = port.rrp_optimization(model=model, version=version, l=l, b= None, hist=hist)\n",
    "\n",
    "display(w_rrp_a.T)\n",
    "# Plotting the composition of the portfolio\n",
    "\n",
    "ax = rp.plot_pie(w=w_rrp_a, title='Relaxed Risk Parity A', others=0.05, nrow=25, cmap = \"tab20\",\n",
    "                 height=6, width=10, ax=None)\n",
    "\n",
    "\n",
    "w_rrp_a_weights = w_rrp_a['weights'].values.reshape(1, -1)\n",
    "esg_ratings = ESG_constraint['ESG Fund Rating'].values.reshape(-1, 1)\n",
    "\n",
    "ESG_Rating_portfolio = w_rrp_a_weights.dot(esg_ratings).item()\n",
    "print(f'The weighted average ESG rating of this portfolio is {ESG_Rating_portfolio}')"
   ]
  },
  {
   "cell_type": "code",
   "execution_count": 141,
   "metadata": {},
   "outputs": [
    {
     "data": {
      "text/plain": [
       "<matplotlib.lines.Line2D at 0x7f7efc86caf0>"
      ]
     },
     "execution_count": 141,
     "metadata": {},
     "output_type": "execute_result"
    },
    {
     "data": {
      "image/png": "[encoded data removed]",
      "text/plain": [
       "<Figure size 720x432 with 1 Axes>"
      ]
     },
     "metadata": {
      "needs_background": "light"
     },
     "output_type": "display_data"
    }
   ],
   "source": [
    "import matplotlib.pyplot as plt\n",
    "\n",
    "fig, ax = plt.subplots(figsize=(10,6))\n",
    "\n",
    "# Plotting the risk composition of the portfolio\n",
    "ax = rp.plot_risk_con(w_rrp_a, cov=port.cov, returns=port.returns, rm=rm, rf=0, alpha=0.05,\n",
    "                      color=\"tab:blue\", height=6, width=10, ax=ax)\n",
    "\n",
    "# Plotting equal risk contribution line\n",
    "a1 = rp.Sharpe_Risk(w_rrp_a, cov=port.cov, returns=port.returns, rm=rm, rf=0, alpha=0.05)\n",
    "ax.axhline(y=a1/len(assets) * 252**0.5, color='r', linestyle='-')\n"
   ]
  },
  {
   "cell_type": "code",
   "execution_count": 39,
   "metadata": {},
   "outputs": [],
   "source": [
    "from pypfopt import black_litterman, risk_models\n",
    "from pypfopt import BlackLittermanModel, plotting\n",
    "\n",
    "S = risk_models.CovarianceShrinkage(etf_prices).ledoit_wolf()\n",
    "market_prior = w_rrp_a\n",
    "\n",
    "viewdict = {\n",
    "    \"ESGU\": 0.10,\n",
    "    \"EAGG\": 0.30,\n",
    "    \"ESGE\": 0.05,\n",
    "    \"ESML\": 0.05,\n",
    "    \"SUSB\": 0.20,\n",
    "    \"ESGD\": -0.05,  # Negative view on ESGD\n",
    "    \"SHY\": 0.15,\n",
    "    \"SUSA\": 0.10,\n",
    "    \"GOVT\": 0.50,  # Low confidence in the positive view on GOVT\n",
    "    \"MBB\": 0.10,\n",
    "    \"SUSC\": 0.10\n",
    "}\n",
    "\n",
    "confidences = [\n",
    "    0.6,\n",
    "    0.4,\n",
    "    0.2,\n",
    "    0.5,\n",
    "    0.7, # confident in dominos\n",
    "    0.7, # confident KO will do poorly\n",
    "    0.7, \n",
    "    0.5,\n",
    "    0.1,\n",
    "    0.4,\n",
    "    0.1\n",
    "]\n"
   ]
  },
  {
   "cell_type": "code",
   "execution_count": 40,
   "metadata": {},
   "outputs": [
    {
     "data": {
      "text/plain": [
       "EAGG    0.172992\n",
       "ESGD    0.027131\n",
       "ESGE    0.037734\n",
       "ESGU    0.051599\n",
       "ESML    0.041422\n",
       "GOVT    0.182109\n",
       "MBB     0.133941\n",
       "SHY     0.175248\n",
       "SUSA    0.051106\n",
       "SUSB    0.178591\n",
       "SUSC    0.171944\n",
       "dtype: float64"
      ]
     },
     "execution_count": 40,
     "metadata": {},
     "output_type": "execute_result"
    }
   ],
   "source": [
    "bl = BlackLittermanModel(S, pi=market_prior, absolute_views=viewdict, omega=\"idzorek\", view_confidences=confidences)\n",
    "\n",
    "# Posterior estimate of returns\n",
    "ret_bl = bl.bl_returns()\n",
    "ret_bl\n"
   ]
  },
  {
   "cell_type": "code",
   "execution_count": 41,
   "metadata": {},
   "outputs": [
    {
     "name": "stdout",
     "output_type": "stream",
     "text": [
      "         Prior  Posterior  Views\n",
      "ESGU  0.115827   0.172992   0.10\n",
      "EAGG  0.047693   0.027131   0.30\n",
      "ESGE  0.046257   0.037734   0.05\n",
      "ESML  0.043095   0.051599   0.05\n",
      "SUSB  0.036776   0.041422   0.20\n",
      "ESGD  0.136961   0.182109  -0.05\n",
      "SHY   0.109588   0.133941   0.15\n",
      "SUSA  0.206251   0.175248   0.10\n",
      "GOVT  0.043535   0.051106   0.50\n",
      "MBB   0.129034   0.178591   0.10\n",
      "SUSC  0.084984   0.171944   0.10\n"
     ]
    }
   ],
   "source": [
    "import pandas as pd\n",
    "import numpy as np\n",
    "\n",
    "# Assuming market_prior is a DataFrame and ret_bl is a Series\n",
    "market_prior_values = market_prior.values.flatten()\n",
    "ret_bl_values = ret_bl.values.flatten()\n",
    "\n",
    "\n",
    "# Create the DataFrame\n",
    "rets_df = pd.DataFrame({\n",
    "    \"Prior\": market_prior_values,\n",
    "    \"Posterior\": ret_bl_values,\n",
    "    \"Views\": pd.Series(viewdict)\n",
    "})\n",
    "\n",
    "# Display the DataFrame\n",
    "print(rets_df)\n"
   ]
  },
  {
   "cell_type": "code",
   "execution_count": 42,
   "metadata": {},
   "outputs": [
    {
     "data": {
      "image/png": "[encoded data removed]",
      "text/plain": [
       "<Figure size 864x576 with 1 Axes>"
      ]
     },
     "metadata": {
      "needs_background": "light"
     },
     "output_type": "display_data"
    }
   ],
   "source": [
    "rets_df.plot.bar(figsize=(12,8))"
   ]
  }
 ],
 "metadata": {
  "kernelspec": {
   "display_name": "base",
   "language": "python",
   "name": "python3"
  },
  "language_info": {
   "codemirror_mode": {
    "name": "ipython",
    "version": 3
   },
   "file_extension": ".py",
   "mimetype": "text/x-python",
   "name": "python",
   "nbconvert_exporter": "python",
   "pygments_lexer": "ipython3",
   "version": "3.8.5"
  },
  "orig_nbformat": 4
 },
 "nbformat": 4,
 "nbformat_minor": 2
}
